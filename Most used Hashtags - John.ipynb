{
 "cells": [
  {
   "cell_type": "markdown",
   "metadata": {},
   "source": [
    "# Exploration of the most used hashtags during both FW"
   ]
  },
  {
   "cell_type": "code",
   "execution_count": 1,
   "metadata": {
    "collapsed": true
   },
   "outputs": [],
   "source": [
    "import pandas as pd\n",
    "import numpy as np\n",
    "import scipy as sp\n",
    "from scipy.sparse import csr_matrix\n",
    "from sklearn.preprocessing import LabelEncoder\n",
    "pd.set_option('display.max_columns', 500)\n",
    "\n",
    "from datetime import timedelta as td\n",
    "from datetime import datetime\n",
    "\n",
    "import seaborn as sns\n",
    "sns.set(style='white', color_codes=True)\n",
    "sns.set_context(rc={\"font.family\":\"sans\",\"font.size\":24,\"axes.titlesize\":24,\"axes.labelsize\":24})\n",
    "\n",
    "import matplotlib.pyplot as plt\n",
    "%matplotlib inline\n",
    "\n",
    "import warnings\n",
    "warnings.filterwarnings(\"ignore\")\n"
   ]
  },
  {
   "cell_type": "code",
   "execution_count": 2,
   "metadata": {},
   "outputs": [
    {
     "data": {
      "text/html": [
       "<div>\n",
       "<style scoped>\n",
       "    .dataframe tbody tr th:only-of-type {\n",
       "        vertical-align: middle;\n",
       "    }\n",
       "\n",
       "    .dataframe tbody tr th {\n",
       "        vertical-align: top;\n",
       "    }\n",
       "\n",
       "    .dataframe thead th {\n",
       "        text-align: right;\n",
       "    }\n",
       "</style>\n",
       "<table border=\"1\" class=\"dataframe\">\n",
       "  <thead>\n",
       "    <tr style=\"text-align: right;\">\n",
       "      <th></th>\n",
       "      <th>hashtag</th>\n",
       "      <th>nr of tweets with hashtag</th>\n",
       "      <th>distinct users for hashtag</th>\n",
       "      <th>distinct mentions with hashtag</th>\n",
       "      <th>total mentions with hashtag</th>\n",
       "      <th>nr of tweets in selection</th>\n",
       "      <th>nr of users in selection</th>\n",
       "    </tr>\n",
       "  </thead>\n",
       "  <tbody>\n",
       "    <tr>\n",
       "      <th>0</th>\n",
       "      <td>정가람</td>\n",
       "      <td>2</td>\n",
       "      <td>2</td>\n",
       "      <td>1</td>\n",
       "      <td>2</td>\n",
       "      <td>672241</td>\n",
       "      <td>214595</td>\n",
       "    </tr>\n",
       "    <tr>\n",
       "      <th>1</th>\n",
       "      <td>배우</td>\n",
       "      <td>65</td>\n",
       "      <td>42</td>\n",
       "      <td>3</td>\n",
       "      <td>48</td>\n",
       "      <td>672241</td>\n",
       "      <td>214595</td>\n",
       "    </tr>\n",
       "    <tr>\n",
       "      <th>2</th>\n",
       "      <td>연기자</td>\n",
       "      <td>47</td>\n",
       "      <td>35</td>\n",
       "      <td>2</td>\n",
       "      <td>37</td>\n",
       "      <td>672241</td>\n",
       "      <td>214595</td>\n",
       "    </tr>\n",
       "    <tr>\n",
       "      <th>3</th>\n",
       "      <td>영화</td>\n",
       "      <td>39</td>\n",
       "      <td>36</td>\n",
       "      <td>3</td>\n",
       "      <td>37</td>\n",
       "      <td>672241</td>\n",
       "      <td>214595</td>\n",
       "    </tr>\n",
       "    <tr>\n",
       "      <th>4</th>\n",
       "      <td>시사회</td>\n",
       "      <td>32</td>\n",
       "      <td>32</td>\n",
       "      <td>1</td>\n",
       "      <td>31</td>\n",
       "      <td>672241</td>\n",
       "      <td>214595</td>\n",
       "    </tr>\n",
       "  </tbody>\n",
       "</table>\n",
       "</div>"
      ],
      "text/plain": [
       "  hashtag  nr of tweets with hashtag  distinct users for hashtag  \\\n",
       "0     정가람                          2                           2   \n",
       "1      배우                         65                          42   \n",
       "2     연기자                         47                          35   \n",
       "3      영화                         39                          36   \n",
       "4     시사회                         32                          32   \n",
       "\n",
       "   distinct mentions with hashtag  total mentions with hashtag  \\\n",
       "0                               1                            2   \n",
       "1                               3                           48   \n",
       "2                               2                           37   \n",
       "3                               3                           37   \n",
       "4                               1                           31   \n",
       "\n",
       "   nr of tweets in selection  nr of users in selection  \n",
       "0                     672241                    214595  \n",
       "1                     672241                    214595  \n",
       "2                     672241                    214595  \n",
       "3                     672241                    214595  \n",
       "4                     672241                    214595  "
      ]
     },
     "execution_count": 2,
     "metadata": {},
     "output_type": "execute_result"
    }
   ],
   "source": [
    "#path = 'Twitter_Bins/Hashtags_Bin/MFW_NYFW_06-25/MFW_NYFW_hashtagUserActivity.csv'\n",
    "dataset = pd.read_csv('MFW_NYFW_hashtagUserActivity.csv', delimiter = ';')\n",
    "dataset.head()"
   ]
  },
  {
   "cell_type": "code",
   "execution_count": null,
   "metadata": {
    "scrolled": true
   },
   "outputs": [],
   "source": [
    "dataset.describe()"
   ]
  },
  {
   "cell_type": "code",
   "execution_count": 3,
   "metadata": {
    "collapsed": true
   },
   "outputs": [],
   "source": [
    "dataset.drop(['nr of tweets in selection', 'nr of users in selection'], axis = 1, inplace = True)"
   ]
  },
  {
   "cell_type": "code",
   "execution_count": null,
   "metadata": {},
   "outputs": [],
   "source": [
    "dataset.sort_values(dataset.columns[1], ascending=False).head(20)"
   ]
  },
  {
   "cell_type": "code",
   "execution_count": null,
   "metadata": {},
   "outputs": [],
   "source": [
    "hist2 = sns.distplot(dataset[dataset['nr of tweets with hashtag']>5000]['nr of tweets with hashtag'], bins=100)\n",
    "hist2.set_title('Distribution and Density of mentions')\n",
    "plt.xlim(left=4000,right=50000)\n",
    "plt.grid(axis='x')"
   ]
  },
  {
   "cell_type": "code",
   "execution_count": null,
   "metadata": {},
   "outputs": [],
   "source": [
    "dataset['tweets_per_user'] = (dataset['nr of tweets with hashtag']/dataset['distinct users for hashtag'])\n",
    "dataset.head()"
   ]
  },
  {
   "cell_type": "code",
   "execution_count": null,
   "metadata": {},
   "outputs": [],
   "source": [
    "dataset.sort_values(dataset.columns[2], ascending=False).head(20)"
   ]
  },
  {
   "cell_type": "code",
   "execution_count": null,
   "metadata": {},
   "outputs": [],
   "source": [
    "dataset[dataset['nr of tweets with hashtag'] > 5000].sort_values(dataset.columns[5], ascending = False).head(20)"
   ]
  },
  {
   "cell_type": "code",
   "execution_count": null,
   "metadata": {},
   "outputs": [],
   "source": [
    "dataset.sort_values(dataset.columns[5], ascending=False).head(20)"
   ]
  },
  {
   "cell_type": "code",
   "execution_count": 4,
   "metadata": {
    "collapsed": true
   },
   "outputs": [],
   "source": [
    "d5 = dataset[dataset['nr of tweets with hashtag'] > 7499]"
   ]
  },
  {
   "cell_type": "code",
   "execution_count": null,
   "metadata": {},
   "outputs": [],
   "source": [
    "d5.shape"
   ]
  },
  {
   "cell_type": "code",
   "execution_count": null,
   "metadata": {},
   "outputs": [],
   "source": [
    "d5.head()"
   ]
  },
  {
   "cell_type": "code",
   "execution_count": null,
   "metadata": {
    "collapsed": true
   },
   "outputs": [],
   "source": [
    "dtop = dataset.sort_values(dataset.columns[1], ascending=False)"
   ]
  },
  {
   "cell_type": "code",
   "execution_count": null,
   "metadata": {},
   "outputs": [],
   "source": [
    "dtop.head()"
   ]
  },
  {
   "cell_type": "code",
   "execution_count": null,
   "metadata": {
    "collapsed": true
   },
   "outputs": [],
   "source": [
    "dtop = dtop.iloc[:20,:]"
   ]
  },
  {
   "cell_type": "code",
   "execution_count": null,
   "metadata": {},
   "outputs": [],
   "source": [
    "dtop.shape"
   ]
  },
  {
   "cell_type": "code",
   "execution_count": null,
   "metadata": {},
   "outputs": [],
   "source": [
    "plt.figure(figsize=(10,10))\n",
    "s = sns.barplot(x = 'nr of tweets with hashtag', y = 'hashtag', data = dtop)\n",
    "s.set_xscale('log') \n"
   ]
  },
  {
   "cell_type": "code",
   "execution_count": 5,
   "metadata": {
    "collapsed": true
   },
   "outputs": [],
   "source": [
    "twhash = pd.read_csv('Hashtags_fullExport_clean.csv')"
   ]
  },
  {
   "cell_type": "code",
   "execution_count": null,
   "metadata": {},
   "outputs": [],
   "source": [
    "twhash.head()"
   ]
  },
  {
   "cell_type": "code",
   "execution_count": 6,
   "metadata": {
    "collapsed": true
   },
   "outputs": [],
   "source": [
    "twhash.drop(['withheld_copyright', 'withheld_scope', 'truncated', 'to_user_name', 'in_reply_to_status_id', 'quoted_status_id', 'lat', 'lng', 'from_user_utcoffset', 'from_user_timezone', 'from_user_lang', 'from_user_withheld_scope'],axis = 1, inplace = True)"
   ]
  },
  {
   "cell_type": "code",
   "execution_count": null,
   "metadata": {},
   "outputs": [],
   "source": [
    "twhash.shape"
   ]
  },
  {
   "cell_type": "code",
   "execution_count": 7,
   "metadata": {
    "collapsed": true
   },
   "outputs": [],
   "source": [
    "hashlite = twhash[['id', 'from_user_name', 'text', 'retweet_count', 'favorite_count', 'lang', 'location', 'from_user_id', 'from_user_realname', 'from_user_verified', 'from_user_description', 'from_user_followercount', 'mentions', 'hashtags', 'is_retweet', 'clean_text']]"
   ]
  },
  {
   "cell_type": "code",
   "execution_count": null,
   "metadata": {},
   "outputs": [],
   "source": [
    "hashlite.head()"
   ]
  },
  {
   "cell_type": "code",
   "execution_count": 8,
   "metadata": {},
   "outputs": [],
   "source": [
    "hashlite['hash'] = hashlite['hashtags'].str.split(';')"
   ]
  },
  {
   "cell_type": "code",
   "execution_count": null,
   "metadata": {
    "collapsed": true
   },
   "outputs": [],
   "source": []
  },
  {
   "cell_type": "code",
   "execution_count": 9,
   "metadata": {
    "collapsed": true
   },
   "outputs": [],
   "source": [
    "# take the rows from the hashtag columns where there are actually hashtags\n",
    "hashtags_list_df = hashlite.loc[\n",
    "                       hashlite.hashtags.apply(\n",
    "                           lambda hashtags_list: hashtags_list !=[]\n",
    "                       ),['hashtags']]"
   ]
  },
  {
   "cell_type": "code",
   "execution_count": null,
   "metadata": {},
   "outputs": [],
   "source": [
    "hashtags_list_df.head()"
   ]
  },
  {
   "cell_type": "code",
   "execution_count": 10,
   "metadata": {},
   "outputs": [
    {
     "data": {
      "text/html": [
       "<div>\n",
       "<style scoped>\n",
       "    .dataframe tbody tr th:only-of-type {\n",
       "        vertical-align: middle;\n",
       "    }\n",
       "\n",
       "    .dataframe tbody tr th {\n",
       "        vertical-align: top;\n",
       "    }\n",
       "\n",
       "    .dataframe thead th {\n",
       "        text-align: right;\n",
       "    }\n",
       "</style>\n",
       "<table border=\"1\" class=\"dataframe\">\n",
       "  <thead>\n",
       "    <tr style=\"text-align: right;\">\n",
       "      <th></th>\n",
       "      <th>hashtags</th>\n",
       "    </tr>\n",
       "  </thead>\n",
       "  <tbody>\n",
       "    <tr>\n",
       "      <th>0</th>\n",
       "      <td>[정가람,  배우,  연기자,  영화,  시사회,  junggaram,  style...</td>\n",
       "    </tr>\n",
       "    <tr>\n",
       "      <th>1</th>\n",
       "      <td>[sovogueswiss,  watchporn,  watchaddict,  watc...</td>\n",
       "    </tr>\n",
       "    <tr>\n",
       "      <th>2</th>\n",
       "      <td>[AlejandroBetancourt,  Fashion,  Trendy,  Desi...</td>\n",
       "    </tr>\n",
       "    <tr>\n",
       "      <th>3</th>\n",
       "      <td>[Fashion,  style,  threadLace]</td>\n",
       "    </tr>\n",
       "    <tr>\n",
       "      <th>4</th>\n",
       "      <td>[fashion,  indiedev,  women,  gamedev,  amazon...</td>\n",
       "    </tr>\n",
       "  </tbody>\n",
       "</table>\n",
       "</div>"
      ],
      "text/plain": [
       "                                            hashtags\n",
       "0  [정가람,  배우,  연기자,  영화,  시사회,  junggaram,  style...\n",
       "1  [sovogueswiss,  watchporn,  watchaddict,  watc...\n",
       "2  [AlejandroBetancourt,  Fashion,  Trendy,  Desi...\n",
       "3                     [Fashion,  style,  threadLace]\n",
       "4  [fashion,  indiedev,  women,  gamedev,  amazon..."
      ]
     },
     "execution_count": 10,
     "metadata": {},
     "output_type": "execute_result"
    }
   ],
   "source": [
    "hashtags_list_df['hashtags'] = hashtags_list_df['hashtags'].str.split(';')\n",
    "hashtags_list_df.head()"
   ]
  },
  {
   "cell_type": "code",
   "execution_count": 11,
   "metadata": {
    "collapsed": true
   },
   "outputs": [],
   "source": [
    "hashtags_list_df.dropna(inplace = True)"
   ]
  },
  {
   "cell_type": "code",
   "execution_count": 12,
   "metadata": {},
   "outputs": [],
   "source": [
    "hashtags_list_df['hashtag'] = hashtags_list_df.hashtags.apply(\n",
    "    lambda hashtag_list: [hashtag.lower() for hashtag in hashtag_list])"
   ]
  },
  {
   "cell_type": "code",
   "execution_count": 13,
   "metadata": {
    "collapsed": true
   },
   "outputs": [],
   "source": [
    "hashtags_list_df['hashtag2'] = hashtags_list_df.hashtag.apply(\n",
    "    lambda hashtag_list: [hashtag.strip(' ') for hashtag in hashtag_list])"
   ]
  },
  {
   "cell_type": "code",
   "execution_count": null,
   "metadata": {},
   "outputs": [],
   "source": [
    "# create dataframe where each use of hashtag gets its own row\n",
    "#flattened_hashtags_df = pd.DataFrame(\n",
    "  #  [hashtag for hashtags_list in hashtags_list_df.hashtags\n",
    "  #  for hashtag in hashtags_list],\n",
    "   # columns=['hashtag'])"
   ]
  },
  {
   "cell_type": "code",
   "execution_count": 14,
   "metadata": {},
   "outputs": [],
   "source": [
    "# take hashtags which appear at least this amount of times\n",
    "#min_appearance = 10000\n",
    "# find popular hashtags - make into python set for efficiency\n",
    "popular_hashtags_set = set(d5['hashtag'])"
   ]
  },
  {
   "cell_type": "code",
   "execution_count": null,
   "metadata": {},
   "outputs": [],
   "source": [
    "popular_hashtags_set"
   ]
  },
  {
   "cell_type": "code",
   "execution_count": 15,
   "metadata": {},
   "outputs": [],
   "source": [
    "popular_hashtags_set.remove('poshmark')\n",
    "popular_hashtags_set.remove('fashion')\n",
    "popular_hashtags_set.remove('style')\n",
    "popular_hashtags_set.remove('follow')\n",
    "#popular_hashtags_set.remove('followme')"
   ]
  },
  {
   "cell_type": "code",
   "execution_count": null,
   "metadata": {},
   "outputs": [],
   "source": [
    "d5.head()"
   ]
  },
  {
   "cell_type": "code",
   "execution_count": null,
   "metadata": {},
   "outputs": [],
   "source": [
    "hashtags_list_df.head()"
   ]
  },
  {
   "cell_type": "code",
   "execution_count": 16,
   "metadata": {},
   "outputs": [],
   "source": [
    "# make a new column with only the popular hashtags\n",
    "hashtags_list_df['popular_hashtags'] = hashtags_list_df.hashtag2.apply(\n",
    "            lambda hashtag_list: [hashtag for hashtag in hashtag_list\n",
    "                                  if hashtag in popular_hashtags_set])"
   ]
  },
  {
   "cell_type": "code",
   "execution_count": 17,
   "metadata": {
    "collapsed": true
   },
   "outputs": [],
   "source": [
    "# drop rows without popular hashtag\n",
    "popular_hashtags_list_df = hashtags_list_df.loc[\n",
    "            hashtags_list_df.popular_hashtags.apply(lambda hashtag_list: hashtag_list !=[])]"
   ]
  },
  {
   "cell_type": "code",
   "execution_count": null,
   "metadata": {},
   "outputs": [],
   "source": [
    "hashtags_list_df.head()"
   ]
  },
  {
   "cell_type": "code",
   "execution_count": 18,
   "metadata": {
    "collapsed": true
   },
   "outputs": [],
   "source": [
    "# make new dataframe\n",
    "hashtag_vector_df = popular_hashtags_list_df.loc[:, ['popular_hashtags']]\n",
    "\n",
    "for hashtag in popular_hashtags_set:\n",
    "    # make columns to encode presence of hashtags\n",
    "    hashtag_vector_df['{}'.format(hashtag)] = hashtag_vector_df.popular_hashtags.apply(\n",
    "        lambda hashtag_list: int(hashtag in hashtag_list))"
   ]
  },
  {
   "cell_type": "code",
   "execution_count": 19,
   "metadata": {
    "collapsed": true
   },
   "outputs": [],
   "source": [
    "hashtag_matrix = hashtag_vector_df.drop('popular_hashtags', axis=1)"
   ]
  },
  {
   "cell_type": "code",
   "execution_count": 20,
   "metadata": {},
   "outputs": [
    {
     "data": {
      "image/png": "[encoded data removed]",
      "text/plain": [
       "<Figure size 1152x1152 with 2 Axes>"
      ]
     },
     "metadata": {},
     "output_type": "display_data"
    }
   ],
   "source": [
    "# calculate the correlation matrix\n",
    "correlations = hashtag_matrix.corr()\n",
    "\n",
    "# plot the correlation matrix\n",
    "plt.figure(figsize=(16,16))\n",
    "sns.heatmap(correlations,\n",
    "    cmap='RdBu',\n",
    "    vmin=-1,\n",
    "    vmax=1,\n",
    "    square = True,\n",
    "    cbar_kws={'label':'correlation'})\n",
    "#plt.savefig(\"corr1.png\")\n",
    "plt.show()"
   ]
  },
  {
   "cell_type": "code",
   "execution_count": 21,
   "metadata": {},
   "outputs": [
    {
     "name": "stdout",
     "output_type": "stream",
     "text": [
      "Top Absolute Correlations\n",
      "pikachu                pokémon              0.999999\n",
      "출국                     공항패션                 0.999722\n",
      "                       공항                   0.999659\n",
      "loungefly              giveaway             0.999543\n",
      "공항패션                   공항                   0.999356\n",
      "디스패치                   dispatch             0.998876\n",
      "michaelkorscollection  allaccesskors        0.998472\n",
      "gqxpeckxcoach          gqxpeckxcoachfw20    0.998383\n",
      "디스패치                   공항                   0.998197\n",
      "출국                     디스패치                 0.997094\n",
      "디스패치                   공항패션                 0.996682\n",
      "dispatch               공항                   0.996148\n",
      "coachny                coachfw20            0.995003\n",
      "출국                     dispatch             0.994945\n",
      "공항패션                   dispatch             0.994688\n",
      "디스패치                   패션                   0.994683\n",
      "패션                     공항                   0.994413\n",
      "                       dispatch             0.993286\n",
      "출국                     패션                   0.993106\n",
      "패션                     공항패션                 0.992726\n",
      "리사                     블랙핑크                 0.983003\n",
      "gqxpeckxcoachfw20      peckpalitchoke       0.982895\n",
      "gqxpeckxcoach          peckpalitchoke       0.982182\n",
      "coachny                gqxpeckxcoach        0.978343\n",
      "                       gqxpeckxcoachfw20    0.975949\n",
      "coachfw20              gqxpeckxcoachfw20    0.974879\n",
      "lisa                   blackpink            0.973482\n",
      "coachfw20              gqxpeckxcoach        0.973340\n",
      "minibackpack           bag                  0.972250\n",
      "coachfw20              peckpalitchoke       0.964490\n",
      "coachny                peckpalitchoke       0.957617\n",
      "loungefly              minibackpack         0.952319\n",
      "giveaway               minibackpack         0.948239\n",
      "loungefly              bag                  0.946372\n",
      "giveaway               bag                  0.942260\n",
      "เป๊กผลิตโชค            peckpalitchoke       0.934554\n",
      "pokémon                minibackpack         0.926149\n",
      "pikachu                minibackpack         0.926091\n",
      "pokémon                bag                  0.917070\n",
      "pikachu                bag                  0.917010\n",
      "photooftheday          instagood            0.908080\n",
      "เป๊กผลิตโชค            coachfw20            0.901244\n",
      "blackpink              블랙핑크                 0.899098\n",
      "เป๊กผลิตโชค            gqxpeckxcoachfw20    0.894243\n",
      "                       gqxpeckxcoach        0.891837\n",
      "lisa                   블랙핑크                 0.889576\n",
      "coachny                เป๊กผลิตโชค          0.877004\n",
      "blackpink              리사                   0.843717\n",
      "lisa                   리사                   0.842457\n",
      "beautiful              photooftheday        0.841048\n",
      "dtype: float64\n"
     ]
    }
   ],
   "source": [
    "def get_redundant_pairs(df):\n",
    "    '''Get diagonal and lower triangular pairs of correlation matrix'''\n",
    "    pairs_to_drop = set()\n",
    "    cols = df.columns\n",
    "    for i in range(0, df.shape[1]):\n",
    "        for j in range(0, i+1):\n",
    "            pairs_to_drop.add((cols[i], cols[j]))\n",
    "    return pairs_to_drop\n",
    "\n",
    "def get_top_abs_correlations(df, n=5):\n",
    "    au_corr = df.corr().abs().unstack()\n",
    "    labels_to_drop = get_redundant_pairs(df)\n",
    "    au_corr = au_corr.drop(labels=labels_to_drop).sort_values(ascending=False)\n",
    "    return au_corr[0:n]\n",
    "\n",
    "print(\"Top Absolute Correlations\")\n",
    "print(get_top_abs_correlations(correlations, 50))"
   ]
  },
  {
   "cell_type": "code",
   "execution_count": null,
   "metadata": {
    "collapsed": true
   },
   "outputs": [],
   "source": []
  },
  {
   "cell_type": "code",
   "execution_count": null,
   "metadata": {
    "collapsed": true
   },
   "outputs": [],
   "source": []
  },
  {
   "cell_type": "code",
   "execution_count": null,
   "metadata": {},
   "outputs": [],
   "source": [
    "mibrands = pd.read_csv('MIFW.csv', delimiter = ';')\n",
    "mibrands.head()"
   ]
  },
  {
   "cell_type": "code",
   "execution_count": null,
   "metadata": {},
   "outputs": [],
   "source": [
    "nybrands = pd.read_csv('NYFW.csv', delimiter = ';')\n",
    "nybrands.head()"
   ]
  },
  {
   "cell_type": "code",
   "execution_count": null,
   "metadata": {},
   "outputs": [],
   "source": [
    "mibrands = mibrands[['BRAND', 'TWITTER']]\n",
    "nybrands = nybrands[['Brand', 'Twitter']]\n",
    "nybrands = nybrands.iloc[:70, :]\n",
    "nybrands = nybrands.rename(columns={\"Brand\": \"BRAND\", \"Twitter\": \"TWITTER\"})"
   ]
  },
  {
   "cell_type": "code",
   "execution_count": null,
   "metadata": {},
   "outputs": [],
   "source": [
    "brands = pd.concat([mibrands, nybrands])"
   ]
  },
  {
   "cell_type": "code",
   "execution_count": null,
   "metadata": {},
   "outputs": [],
   "source": [
    "brands.dropna(inplace = True)"
   ]
  },
  {
   "cell_type": "code",
   "execution_count": null,
   "metadata": {
    "collapsed": true
   },
   "outputs": [],
   "source": [
    "# take hashtags which appear at least this amount of times\n",
    "#min_appearance = 10000\n",
    "# find popular hashtags - make into python set for efficiency\n",
    "popular_brands_set = set(brands['TWITTER'])"
   ]
  },
  {
   "cell_type": "code",
   "execution_count": null,
   "metadata": {
    "collapsed": true
   },
   "outputs": [],
   "source": [
    "hashtags_list_df['hashtag'] = hashtags_list_df.hashtags.apply(\n",
    "    lambda hashtag_list: [hashtag.lower() for hashtag in hashtag_list])\n",
    "\n",
    "hashtags_list_df.dropna(inplace = True)"
   ]
  },
  {
   "cell_type": "code",
   "execution_count": null,
   "metadata": {
    "collapsed": true
   },
   "outputs": [],
   "source": [
    "# make a new column with only the popular hashtags\n",
    "hashtags_list_df['popular_brands'] = hashtags_list_df.hashtag.apply(\n",
    "            lambda hashtag_list: [hashtag for hashtag in hashtag_list\n",
    "                                  if hashtag in popular_brands_set])\n",
    "\n",
    "# drop rows without popular hashtag\n",
    "popular_brands_list_df = hashtags_list_df.loc[\n",
    "            hashtags_list_df.popular_brands.apply(lambda hashtag_list: hashtag_list !=[])]"
   ]
  },
  {
   "cell_type": "code",
   "execution_count": null,
   "metadata": {},
   "outputs": [],
   "source": [
    "# make new dataframe\n",
    "hashtag_vector_df = popular_brands_list_df.loc[:, ['popular_brands']]"
   ]
  },
  {
   "cell_type": "code",
   "execution_count": null,
   "metadata": {
    "collapsed": true
   },
   "outputs": [],
   "source": [
    "for hashtag in popular_brands_set:\n",
    "    # make columns to encode presence of hashtags\n",
    "    hashtag_vector_df['{}'.format(hashtag)] = hashtag_vector_df.popular_brands.apply(\n",
    "        lambda hashtag_list: int(hashtag in hashtag_list))"
   ]
  },
  {
   "cell_type": "code",
   "execution_count": null,
   "metadata": {
    "collapsed": true
   },
   "outputs": [],
   "source": [
    "brand_matrix = hashtag_vector_df.drop('popular_brands', axis=1)"
   ]
  },
  {
   "cell_type": "code",
   "execution_count": null,
   "metadata": {},
   "outputs": [],
   "source": [
    "# calculate the correlation matrix\n",
    "correlations_brand = brand_matrix.corr()\n",
    "\n",
    "# plot the correlation matrix\n",
    "plt.figure(figsize=(20,20))\n",
    "sns.heatmap(correlations_brand,\n",
    "    cmap='RdBu',\n",
    "    vmin=-1,\n",
    "    vmax=1,\n",
    "    square = True,\n",
    "    cbar_kws={'label':'correlation'})\n",
    "plt.show()"
   ]
  },
  {
   "cell_type": "code",
   "execution_count": null,
   "metadata": {
    "collapsed": true
   },
   "outputs": [],
   "source": []
  },
  {
   "cell_type": "code",
   "execution_count": null,
   "metadata": {
    "collapsed": true
   },
   "outputs": [],
   "source": []
  },
  {
   "cell_type": "code",
   "execution_count": null,
   "metadata": {
    "collapsed": true
   },
   "outputs": [],
   "source": []
  },
  {
   "cell_type": "code",
   "execution_count": 27,
   "metadata": {
    "collapsed": true
   },
   "outputs": [],
   "source": [
    "tw = pd.read_csv('twitter.csv')"
   ]
  },
  {
   "cell_type": "code",
   "execution_count": 28,
   "metadata": {
    "collapsed": true
   },
   "outputs": [],
   "source": [
    "tw.drop(['urls', 'urls_expanded', 'urls_followed', 'domains', 'HTTP status code','withheld_copyright', 'withheld_scope', 'truncated', 'to_user_name', 'in_reply_to_status_id', 'quoted_status_id', 'lat', 'lng', 'from_user_utcoffset', 'from_user_timezone', 'from_user_lang', 'from_user_withheld_scope'],axis = 1, inplace = True)"
   ]
  },
  {
   "cell_type": "code",
   "execution_count": 29,
   "metadata": {},
   "outputs": [
    {
     "data": {
      "text/html": [
       "<div>\n",
       "<style scoped>\n",
       "    .dataframe tbody tr th:only-of-type {\n",
       "        vertical-align: middle;\n",
       "    }\n",
       "\n",
       "    .dataframe tbody tr th {\n",
       "        vertical-align: top;\n",
       "    }\n",
       "\n",
       "    .dataframe thead th {\n",
       "        text-align: right;\n",
       "    }\n",
       "</style>\n",
       "<table border=\"1\" class=\"dataframe\">\n",
       "  <thead>\n",
       "    <tr style=\"text-align: right;\">\n",
       "      <th></th>\n",
       "      <th>id</th>\n",
       "      <th>time</th>\n",
       "      <th>created_at</th>\n",
       "      <th>from_user_name</th>\n",
       "      <th>text</th>\n",
       "      <th>filter_level</th>\n",
       "      <th>possibly_sensitive</th>\n",
       "      <th>retweet_count</th>\n",
       "      <th>favorite_count</th>\n",
       "      <th>lang</th>\n",
       "      <th>source</th>\n",
       "      <th>location</th>\n",
       "      <th>from_user_id</th>\n",
       "      <th>from_user_realname</th>\n",
       "      <th>from_user_verified</th>\n",
       "      <th>from_user_description</th>\n",
       "      <th>from_user_url</th>\n",
       "      <th>from_user_profile_image_url</th>\n",
       "      <th>from_user_tweetcount</th>\n",
       "      <th>from_user_followercount</th>\n",
       "      <th>from_user_friendcount</th>\n",
       "      <th>from_user_favourites_count</th>\n",
       "      <th>from_user_listed</th>\n",
       "      <th>from_user_created_at</th>\n",
       "      <th>mentions</th>\n",
       "      <th>hashtags</th>\n",
       "    </tr>\n",
       "  </thead>\n",
       "  <tbody>\n",
       "    <tr>\n",
       "      <th>0</th>\n",
       "      <td>1225314274983190529</td>\n",
       "      <td>1580972663</td>\n",
       "      <td>2020-02-06 07:04:23</td>\n",
       "      <td>agathardlp</td>\n",
       "      <td>RT @ParaTiOnline: La diseñadora Agatha Ruiz de...</td>\n",
       "      <td>none</td>\n",
       "      <td>NaN</td>\n",
       "      <td>1</td>\n",
       "      <td>0</td>\n",
       "      <td>es</td>\n",
       "      <td>&lt;a href=\"http://twitter.com/download/iphone\" r...</td>\n",
       "      <td>Madrid, Milano, París, Bogotá</td>\n",
       "      <td>63172126</td>\n",
       "      <td>Agatha RuizdelaPrada</td>\n",
       "      <td>1</td>\n",
       "      <td>Design&amp;Arts</td>\n",
       "      <td>http://t.co/9xR7uoS4Fg</td>\n",
       "      <td>http://pbs.twimg.com/profile_images/725322687/...</td>\n",
       "      <td>25535</td>\n",
       "      <td>34221</td>\n",
       "      <td>80</td>\n",
       "      <td>8772</td>\n",
       "      <td>314</td>\n",
       "      <td>2009-08-05 16:03:15</td>\n",
       "      <td>ParaTiOnline; ParaTiOnline</td>\n",
       "      <td>agatharuizdelaprada; madrid; mfw; agatharuizde...</td>\n",
       "    </tr>\n",
       "    <tr>\n",
       "      <th>1</th>\n",
       "      <td>1225314561596809217</td>\n",
       "      <td>1580972731</td>\n",
       "      <td>2020-02-06 07:05:31</td>\n",
       "      <td>agathardlp</td>\n",
       "      <td>RT @ParaTiOnline: La diseñadora Agatha Ruiz de...</td>\n",
       "      <td>none</td>\n",
       "      <td>NaN</td>\n",
       "      <td>1</td>\n",
       "      <td>0</td>\n",
       "      <td>es</td>\n",
       "      <td>&lt;a href=\"http://twitter.com/download/iphone\" r...</td>\n",
       "      <td>Madrid, Milano, París, Bogotá</td>\n",
       "      <td>63172126</td>\n",
       "      <td>Agatha RuizdelaPrada</td>\n",
       "      <td>1</td>\n",
       "      <td>Design&amp;Arts</td>\n",
       "      <td>http://t.co/9xR7uoS4Fg</td>\n",
       "      <td>http://pbs.twimg.com/profile_images/725322687/...</td>\n",
       "      <td>25535</td>\n",
       "      <td>34221</td>\n",
       "      <td>80</td>\n",
       "      <td>8772</td>\n",
       "      <td>314</td>\n",
       "      <td>2009-08-05 16:03:15</td>\n",
       "      <td>ParaTiOnline</td>\n",
       "      <td>agatharuizdelaprada; madrid; mfw</td>\n",
       "    </tr>\n",
       "    <tr>\n",
       "      <th>2</th>\n",
       "      <td>1225317676748169216</td>\n",
       "      <td>1580973474</td>\n",
       "      <td>2020-02-06 07:17:54</td>\n",
       "      <td>dikanind</td>\n",
       "      <td>RT @MensHumor: Fashion Week has truly risen to...</td>\n",
       "      <td>none</td>\n",
       "      <td>NaN</td>\n",
       "      <td>6</td>\n",
       "      <td>0</td>\n",
       "      <td>en</td>\n",
       "      <td>&lt;a href=\"http://twitter.com/download/android\" ...</td>\n",
       "      <td>Jakarta, INDONESIA</td>\n",
       "      <td>26261609</td>\n",
       "      <td>Dika Anindyajati</td>\n",
       "      <td>0</td>\n",
       "      <td>full-time weekender. part-time engineer. loves...</td>\n",
       "      <td>NaN</td>\n",
       "      <td>http://pbs.twimg.com/profile_images/5052449979...</td>\n",
       "      <td>13217</td>\n",
       "      <td>340</td>\n",
       "      <td>270</td>\n",
       "      <td>373</td>\n",
       "      <td>7</td>\n",
       "      <td>2009-03-24 15:52:37</td>\n",
       "      <td>MensHumor</td>\n",
       "      <td>NaN</td>\n",
       "    </tr>\n",
       "    <tr>\n",
       "      <th>3</th>\n",
       "      <td>1225317776065208320</td>\n",
       "      <td>1580973497</td>\n",
       "      <td>2020-02-06 07:18:17</td>\n",
       "      <td>skenxxieco</td>\n",
       "      <td>RT @BoF: Fashion month is upon us. But what do...</td>\n",
       "      <td>none</td>\n",
       "      <td>0.0</td>\n",
       "      <td>12</td>\n",
       "      <td>0</td>\n",
       "      <td>en</td>\n",
       "      <td>&lt;a href=\"https://mobile.twitter.com\" rel=\"nofo...</td>\n",
       "      <td>mars</td>\n",
       "      <td>466191679</td>\n",
       "      <td>scar-yeet coedashian</td>\n",
       "      <td>0</td>\n",
       "      <td>yozen frogurt</td>\n",
       "      <td>NaN</td>\n",
       "      <td>http://pbs.twimg.com/profile_images/6030360185...</td>\n",
       "      <td>76712</td>\n",
       "      <td>202</td>\n",
       "      <td>546</td>\n",
       "      <td>12892</td>\n",
       "      <td>3</td>\n",
       "      <td>2012-01-17 04:36:58</td>\n",
       "      <td>BoF</td>\n",
       "      <td>NaN</td>\n",
       "    </tr>\n",
       "    <tr>\n",
       "      <th>4</th>\n",
       "      <td>1225317911419486210</td>\n",
       "      <td>1580973530</td>\n",
       "      <td>2020-02-06 07:18:50</td>\n",
       "      <td>markieemarxh</td>\n",
       "      <td>RT @miloismybaby: Mark was supposed to attend ...</td>\n",
       "      <td>none</td>\n",
       "      <td>NaN</td>\n",
       "      <td>1920</td>\n",
       "      <td>0</td>\n",
       "      <td>en</td>\n",
       "      <td>&lt;a href=\"http://twitter.com/download/android\" ...</td>\n",
       "      <td>FarAway Land</td>\n",
       "      <td>947526434750324736</td>\n",
       "      <td>삼월❤</td>\n",
       "      <td>0</td>\n",
       "      <td>AHGASE🐦 | MarkJin🐰🍑💖💙 | JYPNATION/GGs | I retw...</td>\n",
       "      <td>NaN</td>\n",
       "      <td>http://pbs.twimg.com/profile_images/1220013140...</td>\n",
       "      <td>72276</td>\n",
       "      <td>94</td>\n",
       "      <td>148</td>\n",
       "      <td>30677</td>\n",
       "      <td>0</td>\n",
       "      <td>2017-12-31 17:54:41</td>\n",
       "      <td>miloismybaby; GOT7Official; jypnation</td>\n",
       "      <td>TreatMarkBetter</td>\n",
       "    </tr>\n",
       "  </tbody>\n",
       "</table>\n",
       "</div>"
      ],
      "text/plain": [
       "                    id        time           created_at from_user_name  \\\n",
       "0  1225314274983190529  1580972663  2020-02-06 07:04:23     agathardlp   \n",
       "1  1225314561596809217  1580972731  2020-02-06 07:05:31     agathardlp   \n",
       "2  1225317676748169216  1580973474  2020-02-06 07:17:54       dikanind   \n",
       "3  1225317776065208320  1580973497  2020-02-06 07:18:17     skenxxieco   \n",
       "4  1225317911419486210  1580973530  2020-02-06 07:18:50   markieemarxh   \n",
       "\n",
       "                                                text filter_level  \\\n",
       "0  RT @ParaTiOnline: La diseñadora Agatha Ruiz de...         none   \n",
       "1  RT @ParaTiOnline: La diseñadora Agatha Ruiz de...         none   \n",
       "2  RT @MensHumor: Fashion Week has truly risen to...         none   \n",
       "3  RT @BoF: Fashion month is upon us. But what do...         none   \n",
       "4  RT @miloismybaby: Mark was supposed to attend ...         none   \n",
       "\n",
       "   possibly_sensitive  retweet_count  favorite_count lang  \\\n",
       "0                 NaN              1               0   es   \n",
       "1                 NaN              1               0   es   \n",
       "2                 NaN              6               0   en   \n",
       "3                 0.0             12               0   en   \n",
       "4                 NaN           1920               0   en   \n",
       "\n",
       "                                              source  \\\n",
       "0  <a href=\"http://twitter.com/download/iphone\" r...   \n",
       "1  <a href=\"http://twitter.com/download/iphone\" r...   \n",
       "2  <a href=\"http://twitter.com/download/android\" ...   \n",
       "3  <a href=\"https://mobile.twitter.com\" rel=\"nofo...   \n",
       "4  <a href=\"http://twitter.com/download/android\" ...   \n",
       "\n",
       "                        location        from_user_id    from_user_realname  \\\n",
       "0  Madrid, Milano, París, Bogotá            63172126  Agatha RuizdelaPrada   \n",
       "1  Madrid, Milano, París, Bogotá            63172126  Agatha RuizdelaPrada   \n",
       "2             Jakarta, INDONESIA            26261609      Dika Anindyajati   \n",
       "3                           mars           466191679  scar-yeet coedashian   \n",
       "4                   FarAway Land  947526434750324736                   삼월❤   \n",
       "\n",
       "   from_user_verified                              from_user_description  \\\n",
       "0                   1                                        Design&Arts   \n",
       "1                   1                                        Design&Arts   \n",
       "2                   0  full-time weekender. part-time engineer. loves...   \n",
       "3                   0                                      yozen frogurt   \n",
       "4                   0  AHGASE🐦 | MarkJin🐰🍑💖💙 | JYPNATION/GGs | I retw...   \n",
       "\n",
       "            from_user_url                        from_user_profile_image_url  \\\n",
       "0  http://t.co/9xR7uoS4Fg  http://pbs.twimg.com/profile_images/725322687/...   \n",
       "1  http://t.co/9xR7uoS4Fg  http://pbs.twimg.com/profile_images/725322687/...   \n",
       "2                     NaN  http://pbs.twimg.com/profile_images/5052449979...   \n",
       "3                     NaN  http://pbs.twimg.com/profile_images/6030360185...   \n",
       "4                     NaN  http://pbs.twimg.com/profile_images/1220013140...   \n",
       "\n",
       "   from_user_tweetcount  from_user_followercount  from_user_friendcount  \\\n",
       "0                 25535                    34221                     80   \n",
       "1                 25535                    34221                     80   \n",
       "2                 13217                      340                    270   \n",
       "3                 76712                      202                    546   \n",
       "4                 72276                       94                    148   \n",
       "\n",
       "   from_user_favourites_count  from_user_listed from_user_created_at  \\\n",
       "0                        8772               314  2009-08-05 16:03:15   \n",
       "1                        8772               314  2009-08-05 16:03:15   \n",
       "2                         373                 7  2009-03-24 15:52:37   \n",
       "3                       12892                 3  2012-01-17 04:36:58   \n",
       "4                       30677                 0  2017-12-31 17:54:41   \n",
       "\n",
       "                                mentions  \\\n",
       "0             ParaTiOnline; ParaTiOnline   \n",
       "1                           ParaTiOnline   \n",
       "2                              MensHumor   \n",
       "3                                    BoF   \n",
       "4  miloismybaby; GOT7Official; jypnation   \n",
       "\n",
       "                                            hashtags  \n",
       "0  agatharuizdelaprada; madrid; mfw; agatharuizde...  \n",
       "1                   agatharuizdelaprada; madrid; mfw  \n",
       "2                                                NaN  \n",
       "3                                                NaN  \n",
       "4                                    TreatMarkBetter  "
      ]
     },
     "execution_count": 29,
     "metadata": {},
     "output_type": "execute_result"
    }
   ],
   "source": [
    "tw.head()"
   ]
  },
  {
   "cell_type": "code",
   "execution_count": 30,
   "metadata": {
    "collapsed": true
   },
   "outputs": [],
   "source": [
    "tw['ment'] = tw['mentions'].str.split(';')"
   ]
  },
  {
   "cell_type": "code",
   "execution_count": 31,
   "metadata": {},
   "outputs": [
    {
     "data": {
      "text/html": [
       "<div>\n",
       "<style scoped>\n",
       "    .dataframe tbody tr th:only-of-type {\n",
       "        vertical-align: middle;\n",
       "    }\n",
       "\n",
       "    .dataframe tbody tr th {\n",
       "        vertical-align: top;\n",
       "    }\n",
       "\n",
       "    .dataframe thead th {\n",
       "        text-align: right;\n",
       "    }\n",
       "</style>\n",
       "<table border=\"1\" class=\"dataframe\">\n",
       "  <thead>\n",
       "    <tr style=\"text-align: right;\">\n",
       "      <th></th>\n",
       "      <th>ment</th>\n",
       "    </tr>\n",
       "  </thead>\n",
       "  <tbody>\n",
       "    <tr>\n",
       "      <th>0</th>\n",
       "      <td>[ParaTiOnline,  ParaTiOnline]</td>\n",
       "    </tr>\n",
       "    <tr>\n",
       "      <th>1</th>\n",
       "      <td>[ParaTiOnline]</td>\n",
       "    </tr>\n",
       "    <tr>\n",
       "      <th>2</th>\n",
       "      <td>[MensHumor]</td>\n",
       "    </tr>\n",
       "    <tr>\n",
       "      <th>3</th>\n",
       "      <td>[BoF]</td>\n",
       "    </tr>\n",
       "    <tr>\n",
       "      <th>4</th>\n",
       "      <td>[miloismybaby,  GOT7Official,  jypnation]</td>\n",
       "    </tr>\n",
       "  </tbody>\n",
       "</table>\n",
       "</div>"
      ],
      "text/plain": [
       "                                        ment\n",
       "0              [ParaTiOnline,  ParaTiOnline]\n",
       "1                             [ParaTiOnline]\n",
       "2                                [MensHumor]\n",
       "3                                      [BoF]\n",
       "4  [miloismybaby,  GOT7Official,  jypnation]"
      ]
     },
     "execution_count": 31,
     "metadata": {},
     "output_type": "execute_result"
    }
   ],
   "source": [
    "# take the rows from the hashtag columns where there are actually hashtags\n",
    "mentions_list_df = tw.loc[\n",
    "                       tw.ment.apply(\n",
    "                           lambda mentions_list: mentions_list !=[]\n",
    "                       ),['ment']]\n",
    "\n",
    "mentions_list_df.head()"
   ]
  },
  {
   "cell_type": "code",
   "execution_count": 36,
   "metadata": {},
   "outputs": [
    {
     "data": {
      "text/plain": [
       "' ParaTiOnline'"
      ]
     },
     "execution_count": 36,
     "metadata": {},
     "output_type": "execute_result"
    }
   ],
   "source": [
    "mentions_list_df.ment[0][1]"
   ]
  },
  {
   "cell_type": "code",
   "execution_count": null,
   "metadata": {
    "collapsed": true
   },
   "outputs": [],
   "source": [
    "#mentions_list_df['ment'] = hashtags_list_df['hashtags'].str.split(';')\n",
    "#mentions_list_df.head()"
   ]
  },
  {
   "cell_type": "code",
   "execution_count": 37,
   "metadata": {
    "collapsed": true
   },
   "outputs": [],
   "source": [
    "mentions_list_df.dropna(inplace = True)"
   ]
  },
  {
   "cell_type": "code",
   "execution_count": 40,
   "metadata": {},
   "outputs": [],
   "source": [
    "mentions_list_df['ment2'] = mentions_list_df.ment.apply(\n",
    "    lambda mention_list: [ment.strip(' ') for ment in mention_list])"
   ]
  },
  {
   "cell_type": "code",
   "execution_count": 42,
   "metadata": {},
   "outputs": [
    {
     "data": {
      "text/plain": [
       "'ParaTiOnline'"
      ]
     },
     "execution_count": 42,
     "metadata": {},
     "output_type": "execute_result"
    }
   ],
   "source": [
    "mentions_list_df.ment2[0][1]"
   ]
  },
  {
   "cell_type": "code",
   "execution_count": 43,
   "metadata": {
    "collapsed": true
   },
   "outputs": [],
   "source": [
    "# create dataframe where each use of hashtag gets its own row\n",
    "flattened_mentions_df = pd.DataFrame(\n",
    "    [mention for mentions_list in mentions_list_df.ment2\n",
    "    for mention in mentions_list],\n",
    "    columns=['menti'])"
   ]
  },
  {
   "cell_type": "code",
   "execution_count": 44,
   "metadata": {},
   "outputs": [
    {
     "data": {
      "text/html": [
       "<div>\n",
       "<style scoped>\n",
       "    .dataframe tbody tr th:only-of-type {\n",
       "        vertical-align: middle;\n",
       "    }\n",
       "\n",
       "    .dataframe tbody tr th {\n",
       "        vertical-align: top;\n",
       "    }\n",
       "\n",
       "    .dataframe thead th {\n",
       "        text-align: right;\n",
       "    }\n",
       "</style>\n",
       "<table border=\"1\" class=\"dataframe\">\n",
       "  <thead>\n",
       "    <tr style=\"text-align: right;\">\n",
       "      <th></th>\n",
       "      <th>menti</th>\n",
       "    </tr>\n",
       "  </thead>\n",
       "  <tbody>\n",
       "    <tr>\n",
       "      <th>0</th>\n",
       "      <td>ParaTiOnline</td>\n",
       "    </tr>\n",
       "    <tr>\n",
       "      <th>1</th>\n",
       "      <td>ParaTiOnline</td>\n",
       "    </tr>\n",
       "    <tr>\n",
       "      <th>2</th>\n",
       "      <td>ParaTiOnline</td>\n",
       "    </tr>\n",
       "    <tr>\n",
       "      <th>3</th>\n",
       "      <td>MensHumor</td>\n",
       "    </tr>\n",
       "    <tr>\n",
       "      <th>4</th>\n",
       "      <td>BoF</td>\n",
       "    </tr>\n",
       "  </tbody>\n",
       "</table>\n",
       "</div>"
      ],
      "text/plain": [
       "          menti\n",
       "0  ParaTiOnline\n",
       "1  ParaTiOnline\n",
       "2  ParaTiOnline\n",
       "3     MensHumor\n",
       "4           BoF"
      ]
     },
     "execution_count": 44,
     "metadata": {},
     "output_type": "execute_result"
    }
   ],
   "source": [
    "flattened_mentions_df.head()"
   ]
  },
  {
   "cell_type": "code",
   "execution_count": 45,
   "metadata": {
    "collapsed": true
   },
   "outputs": [],
   "source": [
    "# count of appearances of each hashtag\n",
    "popular_mentions = flattened_mentions_df.groupby('menti').size()\\\n",
    "                                        .reset_index(name='counts')\\\n",
    "                                        .sort_values('counts', ascending=False)\\\n",
    "                                        .reset_index(drop=True)"
   ]
  },
  {
   "cell_type": "code",
   "execution_count": 48,
   "metadata": {},
   "outputs": [],
   "source": [
    "# take hashtags which appear at least this amount of times\n",
    "min_appearance = 1000\n",
    "# find popular hashtags - make into python set for efficiency\n",
    "popular_mentions_set = set(popular_mentions[\n",
    "                           popular_mentions.counts>=min_appearance\n",
    "                           ]['menti'])"
   ]
  },
  {
   "cell_type": "code",
   "execution_count": 49,
   "metadata": {},
   "outputs": [
    {
     "data": {
      "text/html": [
       "<div>\n",
       "<style scoped>\n",
       "    .dataframe tbody tr th:only-of-type {\n",
       "        vertical-align: middle;\n",
       "    }\n",
       "\n",
       "    .dataframe tbody tr th {\n",
       "        vertical-align: top;\n",
       "    }\n",
       "\n",
       "    .dataframe thead th {\n",
       "        text-align: right;\n",
       "    }\n",
       "</style>\n",
       "<table border=\"1\" class=\"dataframe\">\n",
       "  <thead>\n",
       "    <tr style=\"text-align: right;\">\n",
       "      <th></th>\n",
       "      <th>ment</th>\n",
       "      <th>ment2</th>\n",
       "    </tr>\n",
       "  </thead>\n",
       "  <tbody>\n",
       "    <tr>\n",
       "      <th>0</th>\n",
       "      <td>[ParaTiOnline,  ParaTiOnline]</td>\n",
       "      <td>[ParaTiOnline, ParaTiOnline]</td>\n",
       "    </tr>\n",
       "    <tr>\n",
       "      <th>1</th>\n",
       "      <td>[ParaTiOnline]</td>\n",
       "      <td>[ParaTiOnline]</td>\n",
       "    </tr>\n",
       "    <tr>\n",
       "      <th>2</th>\n",
       "      <td>[MensHumor]</td>\n",
       "      <td>[MensHumor]</td>\n",
       "    </tr>\n",
       "    <tr>\n",
       "      <th>3</th>\n",
       "      <td>[BoF]</td>\n",
       "      <td>[BoF]</td>\n",
       "    </tr>\n",
       "    <tr>\n",
       "      <th>4</th>\n",
       "      <td>[miloismybaby,  GOT7Official,  jypnation]</td>\n",
       "      <td>[miloismybaby, GOT7Official, jypnation]</td>\n",
       "    </tr>\n",
       "  </tbody>\n",
       "</table>\n",
       "</div>"
      ],
      "text/plain": [
       "                                        ment  \\\n",
       "0              [ParaTiOnline,  ParaTiOnline]   \n",
       "1                             [ParaTiOnline]   \n",
       "2                                [MensHumor]   \n",
       "3                                      [BoF]   \n",
       "4  [miloismybaby,  GOT7Official,  jypnation]   \n",
       "\n",
       "                                     ment2  \n",
       "0             [ParaTiOnline, ParaTiOnline]  \n",
       "1                           [ParaTiOnline]  \n",
       "2                              [MensHumor]  \n",
       "3                                    [BoF]  \n",
       "4  [miloismybaby, GOT7Official, jypnation]  "
      ]
     },
     "execution_count": 49,
     "metadata": {},
     "output_type": "execute_result"
    }
   ],
   "source": [
    "mentions_list_df.head()"
   ]
  },
  {
   "cell_type": "code",
   "execution_count": 50,
   "metadata": {
    "collapsed": true
   },
   "outputs": [],
   "source": [
    "# make a new column with only the popular hashtags\n",
    "mentions_list_df['popular_mentions'] = mentions_list_df.ment2.apply(\n",
    "            lambda mention_list: [mention for mention in mention_list\n",
    "                                  if mention in popular_mentions_set])\n",
    "# drop rows without popular hashtag\n",
    "popular_mentions_list_df = mentions_list_df.loc[\n",
    "            mentions_list_df.popular_mentions.apply(lambda mention_list: mention_list !=[])]\n"
   ]
  },
  {
   "cell_type": "code",
   "execution_count": 51,
   "metadata": {
    "collapsed": true
   },
   "outputs": [],
   "source": [
    "# make new dataframe\n",
    "mention_vector_df = popular_mentions_list_df.loc[:, ['popular_mentions']]\n",
    "\n",
    "for mention in popular_mentions_set:\n",
    "    # make columns to encode presence of hashtags\n",
    "    mention_vector_df['{}'.format(mention)] = mention_vector_df.popular_mentions.apply(\n",
    "        lambda mention_list: int(mention in mention_list))"
   ]
  },
  {
   "cell_type": "code",
   "execution_count": 52,
   "metadata": {
    "collapsed": true
   },
   "outputs": [],
   "source": [
    "mention_matrix = mention_vector_df.drop('popular_mentions', axis=1)"
   ]
  },
  {
   "cell_type": "code",
   "execution_count": 58,
   "metadata": {},
   "outputs": [
    {
     "data": {
      "image/png": "[encoded data removed]",
      "text/plain": [
       "<Figure size 1152x1152 with 2 Axes>"
      ]
     },
     "metadata": {},
     "output_type": "display_data"
    }
   ],
   "source": [
    "# calculate the correlation matrix\n",
    "correlation_ment = mention_matrix.corr()\n",
    "\n",
    "# plot the correlation matrix\n",
    "plt.figure(figsize=(16,16))\n",
    "sns.heatmap(correlation_ment,\n",
    "    cmap='RdBu',\n",
    "    vmin=-1,\n",
    "    vmax=1,\n",
    "    square = True,\n",
    "    cbar_kws={'label':'correlation'})\n",
    "plt.show()"
   ]
  },
  {
   "cell_type": "code",
   "execution_count": 59,
   "metadata": {},
   "outputs": [
    {
     "name": "stdout",
     "output_type": "stream",
     "text": [
      "Top Absolute Correlations\n",
      "smrtgrls         DavidSedaris       1.000000\n",
      "DavidSedaris     superm             1.000000\n",
      "smrtgrls         superm             1.000000\n",
      "JimmyKimmelLive  superm             1.000000\n",
      "DavidSedaris     JimmyKimmelLive    1.000000\n",
      "smrtgrls         JimmyKimmelLive    1.000000\n",
      "weareoneEXO      WORLDMUSICAWARD    0.997069\n",
      "xotiffanypics    tiffanyyoung       0.993013\n",
      "Chungha_CN       CHUNGHA_MNHent     0.989289\n",
      "hermionee_00     ygent_official     0.980355\n",
      "polyplusjadhai   peckpalit          0.952467\n",
      "_IUofficial      edam_ent           0.950287\n",
      "_rowoonist       SF9official        0.915157\n",
      "polyplusjadhai   pacificagroup      0.913259\n",
      "pacificagroup    peckpalit          0.872204\n",
      "Coach            pacificagroup      0.842937\n",
      "                 peckpalit          0.840277\n",
      "VogueRunway      RVsmtown           0.838214\n",
      "BritishVogue     Prada              0.793978\n",
      "Moschino         VVFriedman         0.771049\n",
      "polyplusjadhai   Coach              0.740143\n",
      "arlenechiu       Coach              0.650314\n",
      "ygofficialblink  voguemagazine      0.594440\n",
      "arlenechiu       peckpalit          0.560828\n",
      "RVsmtown         ohjoyth            0.558949\n",
      "joysooyoungpics  RVsmtown           0.487126\n",
      "SF9official      theseoulstory      0.399191\n",
      "gucci            _IUofficial        0.395660\n",
      "ygofficialblink  Prada              0.393243\n",
      "Prada            namtan_327         0.381451\n",
      "BritishVogue     ygofficialblink    0.370959\n",
      "ygofficialblink  Kpop_Herald        0.337940\n",
      "Prada            LisaGObase         0.333168\n",
      "nyfw             Coach              0.313880\n",
      "TeamLisaPH       Prada              0.292544\n",
      "BLACKPINK4WAYS   ygofficialblink    0.287478\n",
      "arlenechiu       polyplusjadhai     0.283609\n",
      "                 pacificagroup      0.279552\n",
      "ygofficialblink  LISANATIONS_       0.268209\n",
      "hermionee_00     Prada              0.256156\n",
      "Prada            ygent_official     0.246765\n",
      "ULTRAGLOSS       ygofficialblink    0.236877\n",
      "ygofficialblink  BLACKPINKGLOBAL    0.218628\n",
      "                 LILITEAMTH327      0.204927\n",
      "                 ygent_official     0.201903\n",
      "VVFriedman       gucci              0.194053\n",
      "ygofficialblink  hermionee_00       0.194015\n",
      "VVFriedman       Versace            0.192989\n",
      "ygofficialblink  LMonArt_           0.191696\n",
      "VogueRunway      ohjoyth            0.191314\n",
      "dtype: float64\n"
     ]
    }
   ],
   "source": [
    "def get_redundant_pairs(df):\n",
    "    '''Get diagonal and lower triangular pairs of correlation matrix'''\n",
    "    pairs_to_drop = set()\n",
    "    cols = df.columns\n",
    "    for i in range(0, df.shape[1]):\n",
    "        for j in range(0, i+1):\n",
    "            pairs_to_drop.add((cols[i], cols[j]))\n",
    "    return pairs_to_drop\n",
    "\n",
    "def get_top_abs_correlations(df, n=5):\n",
    "    au_corr = df.corr().abs().unstack()\n",
    "    labels_to_drop = get_redundant_pairs(df)\n",
    "    au_corr = au_corr.drop(labels=labels_to_drop).sort_values(ascending=False)\n",
    "    return au_corr[0:n]\n",
    "\n",
    "print(\"Top Absolute Correlations\")\n",
    "print(get_top_abs_correlations(correlation_ment, 50))"
   ]
  },
  {
   "cell_type": "code",
   "execution_count": null,
   "metadata": {
    "collapsed": true
   },
   "outputs": [],
   "source": []
  }
 ],
 "metadata": {
  "kernelspec": {
   "display_name": "Python 3",
   "language": "python",
   "name": "python3"
  },
  "language_info": {
   "codemirror_mode": {
    "name": "ipython",
    "version": 3
   },
   "file_extension": ".py",
   "mimetype": "text/x-python",
   "name": "python",
   "nbconvert_exporter": "python",
   "pygments_lexer": "ipython3",
   "version": "3.6.1"
  }
 },
 "nbformat": 4,
 "nbformat_minor": 4
}
